{
 "cells": [
  {
   "cell_type": "code",
   "execution_count": 134,
   "id": "d6be5f93",
   "metadata": {},
   "outputs": [],
   "source": [
    "from torchvision import transforms\n",
    "from torchvision.models import *\n",
    "import matplotlib.pyplot as plt\n",
    "import torchvision.models as models\n",
    "from torchvision import transforms\n",
    "import numpy as np\n",
    "import torch\n",
    "from torch.utils.data import DataLoader\n",
    "from matplotlib import pyplot as plt\n",
    "import torch.optim as optim\n",
    "from tqdm import tqdm\n",
    "from torch.utils.tensorboard import SummaryWriter\n",
    "import torchvision\n",
    "import wandb\n",
    "import os\n",
    "import warnings\n",
    "import torch.nn as nn\n",
    "from torchsummary import summary\n",
    "from torch.distributions import Normal, Independent, kl, MultivariateNormal\n",
    "warnings.filterwarnings(\"ignore\")"
   ]
  },
  {
   "cell_type": "code",
   "execution_count": 2,
   "id": "b18577b9",
   "metadata": {},
   "outputs": [
    {
     "ename": "ModuleNotFoundError",
     "evalue": "No module named 'my_VAE'",
     "output_type": "error",
     "traceback": [
      "\u001b[0;31m---------------------------------------------------------------------------\u001b[0m",
      "\u001b[0;31mModuleNotFoundError\u001b[0m                       Traceback (most recent call last)",
      "\u001b[0;32m<ipython-input-2-826f925ffb04>\u001b[0m in \u001b[0;36m<module>\u001b[0;34m\u001b[0m\n\u001b[0;32m----> 1\u001b[0;31m \u001b[0;32mfrom\u001b[0m \u001b[0mmy_VAE\u001b[0m \u001b[0;32mimport\u001b[0m \u001b[0;34m*\u001b[0m\u001b[0;34m\u001b[0m\u001b[0;34m\u001b[0m\u001b[0m\n\u001b[0m",
      "\u001b[0;31mModuleNotFoundError\u001b[0m: No module named 'my_VAE'"
     ]
    }
   ],
   "source": [
    "from my_VAE import *"
   ]
  },
  {
   "cell_type": "code",
   "execution_count": 3,
   "id": "fa101f0d",
   "metadata": {},
   "outputs": [],
   "source": [
    "model = UNet(3, [64,128,256, 512, 1024], 10).to('cuda')"
   ]
  },
  {
   "cell_type": "code",
   "execution_count": 4,
   "id": "3cdccda9",
   "metadata": {},
   "outputs": [],
   "source": [
    "posterior = AxisAlignedConvGaussian(3, [64,128,256, 512, 1024], (256,256)).to('cuda')"
   ]
  },
  {
   "cell_type": "code",
   "execution_count": 5,
   "id": "8aa49a7a",
   "metadata": {},
   "outputs": [],
   "source": [
    "input = torch.randn(1, 3, 256, 256).to('cuda')"
   ]
  },
  {
   "cell_type": "code",
   "execution_count": 6,
   "id": "9508fd49",
   "metadata": {},
   "outputs": [],
   "source": [
    "out = model(input)"
   ]
  },
  {
   "cell_type": "code",
   "execution_count": 7,
   "id": "9dc04614",
   "metadata": {},
   "outputs": [],
   "source": [
    "out = posterior(input)"
   ]
  },
  {
   "cell_type": "code",
   "execution_count": 8,
   "id": "ea6f376c",
   "metadata": {
    "scrolled": true
   },
   "outputs": [
    {
     "name": "stdout",
     "output_type": "stream",
     "text": [
      "----------------------------------------------------------------\n",
      "        Layer (type)               Output Shape         Param #\n",
      "================================================================\n",
      "            Conv2d-1         [-1, 64, 256, 256]           1,792\n",
      "       BatchNorm2d-2         [-1, 64, 256, 256]             128\n",
      "              ReLU-3         [-1, 64, 256, 256]               0\n",
      "            Conv2d-4         [-1, 64, 256, 256]          36,928\n",
      "       BatchNorm2d-5         [-1, 64, 256, 256]             128\n",
      "              ReLU-6         [-1, 64, 256, 256]               0\n",
      "         AvgPool2d-7         [-1, 64, 128, 128]               0\n",
      "            Conv2d-8        [-1, 128, 128, 128]          73,856\n",
      "       BatchNorm2d-9        [-1, 128, 128, 128]             256\n",
      "             ReLU-10        [-1, 128, 128, 128]               0\n",
      "           Conv2d-11        [-1, 128, 128, 128]         147,584\n",
      "      BatchNorm2d-12        [-1, 128, 128, 128]             256\n",
      "             ReLU-13        [-1, 128, 128, 128]               0\n",
      "        AvgPool2d-14          [-1, 128, 64, 64]               0\n",
      "           Conv2d-15          [-1, 256, 64, 64]         295,168\n",
      "      BatchNorm2d-16          [-1, 256, 64, 64]             512\n",
      "             ReLU-17          [-1, 256, 64, 64]               0\n",
      "           Conv2d-18          [-1, 256, 64, 64]         590,080\n",
      "      BatchNorm2d-19          [-1, 256, 64, 64]             512\n",
      "             ReLU-20          [-1, 256, 64, 64]               0\n",
      "        AvgPool2d-21          [-1, 256, 32, 32]               0\n",
      "           Conv2d-22          [-1, 512, 32, 32]       1,180,160\n",
      "      BatchNorm2d-23          [-1, 512, 32, 32]           1,024\n",
      "             ReLU-24          [-1, 512, 32, 32]               0\n",
      "           Conv2d-25          [-1, 512, 32, 32]       2,359,808\n",
      "      BatchNorm2d-26          [-1, 512, 32, 32]           1,024\n",
      "             ReLU-27          [-1, 512, 32, 32]               0\n",
      "        AvgPool2d-28          [-1, 512, 16, 16]               0\n",
      "           Conv2d-29         [-1, 1024, 16, 16]       4,719,616\n",
      "      BatchNorm2d-30         [-1, 1024, 16, 16]           2,048\n",
      "             ReLU-31         [-1, 1024, 16, 16]               0\n",
      "           Conv2d-32         [-1, 1024, 16, 16]       9,438,208\n",
      "      BatchNorm2d-33         [-1, 1024, 16, 16]           2,048\n",
      "             ReLU-34         [-1, 1024, 16, 16]               0\n",
      "        AvgPool2d-35           [-1, 1024, 8, 8]               0\n",
      "           Linear-36                    [-1, 2]         131,074\n",
      "================================================================\n",
      "Total params: 18,982,210\n",
      "Trainable params: 18,982,210\n",
      "Non-trainable params: 0\n",
      "----------------------------------------------------------------\n",
      "Input size (MB): 0.75\n",
      "Forward/backward pass size (MB): 387.50\n",
      "Params size (MB): 72.41\n",
      "Estimated Total Size (MB): 460.66\n",
      "----------------------------------------------------------------\n"
     ]
    }
   ],
   "source": [
    "summary(posterior, (3, 256, 256))"
   ]
  },
  {
   "cell_type": "code",
   "execution_count": 9,
   "id": "087d0791",
   "metadata": {},
   "outputs": [
    {
     "data": {
      "text/plain": [
       "torch.Size([1, 2])"
      ]
     },
     "execution_count": 9,
     "metadata": {},
     "output_type": "execute_result"
    }
   ],
   "source": [
    "out.shape"
   ]
  },
  {
   "cell_type": "code",
   "execution_count": 10,
   "id": "d0fa9714",
   "metadata": {},
   "outputs": [
    {
     "data": {
      "text/plain": [
       "AxisAlignedConvGaussian(\n",
       "  (enc_layers): ModuleDict(\n",
       "    (enc0_unetblock): Sequential(\n",
       "      (enc0_conv1): Sequential(\n",
       "        (enc0_conv1_conv): Conv2d(3, 64, kernel_size=(3, 3), stride=(1, 1), padding=(1, 1))\n",
       "        (enc0_conv1_norm): BatchNorm2d(64, eps=1e-05, momentum=0.1, affine=True, track_running_stats=True)\n",
       "        (enc0_conv1_relu): ReLU(inplace=True)\n",
       "      )\n",
       "      (enc0_conv2): Sequential(\n",
       "        (enc0_conv2_conv): Conv2d(64, 64, kernel_size=(3, 3), stride=(1, 1), padding=(1, 1))\n",
       "        (enc0_conv2_norm): BatchNorm2d(64, eps=1e-05, momentum=0.1, affine=True, track_running_stats=True)\n",
       "        (enc0_conv2_relu): ReLU(inplace=True)\n",
       "      )\n",
       "    )\n",
       "    (enc0_avgpooling): AvgPool2d(kernel_size=2, stride=2, padding=0)\n",
       "    (enc1_unetblock): Sequential(\n",
       "      (enc1_conv1): Sequential(\n",
       "        (enc1_conv1_conv): Conv2d(64, 128, kernel_size=(3, 3), stride=(1, 1), padding=(1, 1))\n",
       "        (enc1_conv1_norm): BatchNorm2d(128, eps=1e-05, momentum=0.1, affine=True, track_running_stats=True)\n",
       "        (enc1_conv1_relu): ReLU(inplace=True)\n",
       "      )\n",
       "      (enc1_conv2): Sequential(\n",
       "        (enc1_conv2_conv): Conv2d(128, 128, kernel_size=(3, 3), stride=(1, 1), padding=(1, 1))\n",
       "        (enc1_conv2_norm): BatchNorm2d(128, eps=1e-05, momentum=0.1, affine=True, track_running_stats=True)\n",
       "        (enc1_conv2_relu): ReLU(inplace=True)\n",
       "      )\n",
       "    )\n",
       "    (enc1_avgpooling): AvgPool2d(kernel_size=2, stride=2, padding=0)\n",
       "    (enc2_unetblock): Sequential(\n",
       "      (enc2_conv1): Sequential(\n",
       "        (enc2_conv1_conv): Conv2d(128, 256, kernel_size=(3, 3), stride=(1, 1), padding=(1, 1))\n",
       "        (enc2_conv1_norm): BatchNorm2d(256, eps=1e-05, momentum=0.1, affine=True, track_running_stats=True)\n",
       "        (enc2_conv1_relu): ReLU(inplace=True)\n",
       "      )\n",
       "      (enc2_conv2): Sequential(\n",
       "        (enc2_conv2_conv): Conv2d(256, 256, kernel_size=(3, 3), stride=(1, 1), padding=(1, 1))\n",
       "        (enc2_conv2_norm): BatchNorm2d(256, eps=1e-05, momentum=0.1, affine=True, track_running_stats=True)\n",
       "        (enc2_conv2_relu): ReLU(inplace=True)\n",
       "      )\n",
       "    )\n",
       "    (enc2_avgpooling): AvgPool2d(kernel_size=2, stride=2, padding=0)\n",
       "    (enc3_unetblock): Sequential(\n",
       "      (enc3_conv1): Sequential(\n",
       "        (enc3_conv1_conv): Conv2d(256, 512, kernel_size=(3, 3), stride=(1, 1), padding=(1, 1))\n",
       "        (enc3_conv1_norm): BatchNorm2d(512, eps=1e-05, momentum=0.1, affine=True, track_running_stats=True)\n",
       "        (enc3_conv1_relu): ReLU(inplace=True)\n",
       "      )\n",
       "      (enc3_conv2): Sequential(\n",
       "        (enc3_conv2_conv): Conv2d(512, 512, kernel_size=(3, 3), stride=(1, 1), padding=(1, 1))\n",
       "        (enc3_conv2_norm): BatchNorm2d(512, eps=1e-05, momentum=0.1, affine=True, track_running_stats=True)\n",
       "        (enc3_conv2_relu): ReLU(inplace=True)\n",
       "      )\n",
       "    )\n",
       "    (enc3_avgpooling): AvgPool2d(kernel_size=2, stride=2, padding=0)\n",
       "    (enc4_unetblock): Sequential(\n",
       "      (enc4_conv1): Sequential(\n",
       "        (enc4_conv1_conv): Conv2d(512, 1024, kernel_size=(3, 3), stride=(1, 1), padding=(1, 1))\n",
       "        (enc4_conv1_norm): BatchNorm2d(1024, eps=1e-05, momentum=0.1, affine=True, track_running_stats=True)\n",
       "        (enc4_conv1_relu): ReLU(inplace=True)\n",
       "      )\n",
       "      (enc4_conv2): Sequential(\n",
       "        (enc4_conv2_conv): Conv2d(1024, 1024, kernel_size=(3, 3), stride=(1, 1), padding=(1, 1))\n",
       "        (enc4_conv2_norm): BatchNorm2d(1024, eps=1e-05, momentum=0.1, affine=True, track_running_stats=True)\n",
       "        (enc4_conv2_relu): ReLU(inplace=True)\n",
       "      )\n",
       "    )\n",
       "    (enc4_avgpooling): AvgPool2d(kernel_size=2, stride=2, padding=0)\n",
       "    (linear_layer): Linear(in_features=65536, out_features=2, bias=True)\n",
       "  )\n",
       ")"
      ]
     },
     "execution_count": 10,
     "metadata": {},
     "output_type": "execute_result"
    }
   ],
   "source": [
    "posterior"
   ]
  },
  {
   "cell_type": "code",
   "execution_count": null,
   "id": "bd7f3218",
   "metadata": {},
   "outputs": [],
   "source": []
  },
  {
   "cell_type": "code",
   "execution_count": 186,
   "id": "1fa6d306",
   "metadata": {},
   "outputs": [],
   "source": [
    "dist = Independent(MultivariateNormal(torch.randn(5,3), torch.eye(3,3)),1)"
   ]
  },
  {
   "cell_type": "code",
   "execution_count": 125,
   "id": "28445d83",
   "metadata": {},
   "outputs": [],
   "source": [
    "dist = Normal(torch.tensor([0.0]), torch.tensor([1.0]))"
   ]
  },
  {
   "cell_type": "code",
   "execution_count": 132,
   "id": "f02c8ce0",
   "metadata": {},
   "outputs": [
    {
     "data": {
      "text/plain": [
       "tensor([[ 0.2646,  2.2858,  0.1620],\n",
       "        [ 2.0168,  0.4195, -1.0985],\n",
       "        [ 0.0867, -1.4262, -0.0457],\n",
       "        [ 0.5519, -0.0608, -0.3402],\n",
       "        [-0.7130,  0.6988, -0.1468]])"
      ]
     },
     "execution_count": 132,
     "metadata": {},
     "output_type": "execute_result"
    }
   ],
   "source": [
    "dist.sample()"
   ]
  },
  {
   "cell_type": "code",
   "execution_count": null,
   "id": "9fee6846",
   "metadata": {},
   "outputs": [],
   "source": []
  },
  {
   "cell_type": "code",
   "execution_count": null,
   "id": "f291b147",
   "metadata": {},
   "outputs": [],
   "source": []
  },
  {
   "cell_type": "code",
   "execution_count": 187,
   "id": "aa171e56",
   "metadata": {},
   "outputs": [
    {
     "name": "stdout",
     "output_type": "stream",
     "text": [
      "torch.Size([10, 12, 1, 1])\n"
     ]
    }
   ],
   "source": [
    "dim = 6\n",
    "encoding = torch.randn(10, 3, 256, 256)\n",
    "\n",
    "encoding = torch.mean(encoding, dim=2, keepdim=True)\n",
    "encoding = torch.mean(encoding, dim=3, keepdim=True)\n",
    "\n",
    "mu_log_sigma = nn.Conv2d(3, 2*dim, (1,1), stride=1)(encoding)\n",
    "print(mu_log_sigma.shape)\n"
   ]
  },
  {
   "cell_type": "code",
   "execution_count": 188,
   "id": "f336487e",
   "metadata": {},
   "outputs": [
    {
     "name": "stdout",
     "output_type": "stream",
     "text": [
      "torch.Size([10, 12])\n"
     ]
    }
   ],
   "source": [
    "#We squeeze the second dimension twice, since otherwise it won't work when batch size is equal to 1\n",
    "mu_log_sigma = torch.squeeze(mu_log_sigma, dim=2)\n",
    "mu_log_sigma = torch.squeeze(mu_log_sigma, dim=2)\n",
    "print(mu_log_sigma.shape)"
   ]
  },
  {
   "cell_type": "code",
   "execution_count": 189,
   "id": "7bc4295a",
   "metadata": {},
   "outputs": [
    {
     "name": "stdout",
     "output_type": "stream",
     "text": [
      "torch.Size([10, 6])\n",
      "torch.Size([10, 6])\n"
     ]
    }
   ],
   "source": [
    "mu = mu_log_sigma[:,:dim]\n",
    "log_sigma = mu_log_sigma[:,dim:]\n",
    "print(mu.shape)\n",
    "print(log_sigma.shape)"
   ]
  },
  {
   "cell_type": "code",
   "execution_count": 190,
   "id": "0bf0bc5a",
   "metadata": {},
   "outputs": [],
   "source": [
    "dist = Independent(Normal(loc = mu, scale = torch.exp(log_sigma)),1)"
   ]
  },
  {
   "cell_type": "code",
   "execution_count": 191,
   "id": "f95629dd",
   "metadata": {},
   "outputs": [
    {
     "data": {
      "text/plain": [
       "tensor([[ 9.4490e-01,  1.0597e-01,  1.7293e-01,  1.3635e+00, -1.5120e-01,\n",
       "         -1.4469e+00],\n",
       "        [-2.6283e+00,  7.5443e-01,  7.2492e-01,  1.5548e+00, -9.1815e-01,\n",
       "          7.9257e-01],\n",
       "        [-1.1739e+00,  4.3533e-01,  5.1895e-01, -1.3991e-01,  1.3177e+00,\n",
       "         -2.2122e-01],\n",
       "        [ 3.1662e-01,  1.7385e-03,  3.0865e-01, -1.3608e+00, -3.4822e-01,\n",
       "         -1.8382e+00],\n",
       "        [-7.4337e-01,  2.0241e-01,  8.4742e-01,  7.1241e-01,  3.5360e-01,\n",
       "         -7.2752e-01],\n",
       "        [ 2.7363e-01, -3.1773e-01, -3.7578e-01, -3.5042e-01,  4.1933e-01,\n",
       "         -9.9323e-02],\n",
       "        [ 2.5041e-01, -8.0951e-01, -2.0993e-01,  8.0267e-01,  1.3261e+00,\n",
       "          6.7523e-01],\n",
       "        [-3.2769e+00, -6.4641e-01,  3.2656e-02, -2.4559e-02,  5.4121e-01,\n",
       "         -6.7497e-01],\n",
       "        [-3.1239e+00,  1.2777e+00,  7.4376e-01, -1.1216e+00,  1.6115e+00,\n",
       "          4.2523e-01],\n",
       "        [ 8.8957e-01,  9.1371e-01,  3.2939e-01, -1.7217e+00, -1.1753e-01,\n",
       "         -3.8809e-01]])"
      ]
     },
     "execution_count": 191,
     "metadata": {},
     "output_type": "execute_result"
    }
   ],
   "source": [
    "dist.sample()"
   ]
  },
  {
   "cell_type": "code",
   "execution_count": 200,
   "id": "4fa1cc77",
   "metadata": {},
   "outputs": [],
   "source": [
    "def test():\n",
    "    for i in range(16):\n",
    "        yield i"
   ]
  },
  {
   "cell_type": "code",
   "execution_count": 204,
   "id": "9b82d5c7",
   "metadata": {},
   "outputs": [
    {
     "name": "stdout",
     "output_type": "stream",
     "text": [
      "10\n",
      "15\n"
     ]
    }
   ],
   "source": [
    "j = 10\n",
    "print(j)\n",
    "for k in test():\n",
    "    x =+ k\n",
    "print(x)"
   ]
  },
  {
   "cell_type": "code",
   "execution_count": 209,
   "id": "e70cce80",
   "metadata": {},
   "outputs": [
    {
     "data": {
      "text/plain": [
       "11"
      ]
     },
     "execution_count": 209,
     "metadata": {},
     "output_type": "execute_result"
    }
   ],
   "source": [
    "from statistics import mean\n",
    "c = [1,2,3,44,5]\n",
    "mean(c)"
   ]
  }
 ],
 "metadata": {
  "kernelspec": {
   "display_name": "Python 3 (ipykernel)",
   "language": "python",
   "name": "python3"
  },
  "language_info": {
   "codemirror_mode": {
    "name": "ipython",
    "version": 3
   },
   "file_extension": ".py",
   "mimetype": "text/x-python",
   "name": "python",
   "nbconvert_exporter": "python",
   "pygments_lexer": "ipython3",
   "version": "3.6.10"
  }
 },
 "nbformat": 4,
 "nbformat_minor": 5
}
