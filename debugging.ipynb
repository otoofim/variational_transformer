{
 "cells": [
  {
   "cell_type": "code",
   "execution_count": 1,
   "id": "d6be5f93",
   "metadata": {},
   "outputs": [],
   "source": [
    "from torchvision import transforms\n",
    "from torchvision.models import *\n",
    "import matplotlib.pyplot as plt\n",
    "import torchvision.models as models\n",
    "from torchvision import transforms\n",
    "import numpy as np\n",
    "import torch\n",
    "from torch.utils.data import DataLoader\n",
    "import torch.optim as optim\n",
    "from tqdm import tqdm\n",
    "from torch.utils.tensorboard import SummaryWriter\n",
    "import torchvision\n",
    "import wandb\n",
    "import os\n",
    "import warnings\n",
    "import torch.nn as nn\n",
    "from torchsummary import summary\n",
    "from torch.distributions import Normal, Independent, kl, MultivariateNormal\n",
    "from typing import Optional, List\n",
    "from torch import Tensor\n",
    "import math\n",
    "import time\n",
    "from Variational_transformer import *\n",
    "from cityscapesscripts.helpers.labels import labels as city_labels\n",
    "from torchvision.datasets import Cityscapes\n",
    "from Transformer import *\n",
    "from VAE import *\n",
    "from PIL import Image, ImageDraw\n",
    "import glob\n",
    "import json\n",
    "import re\n",
    "from torchvision import transforms\n",
    "from dataloader_cityscapes import *\n",
    "device = torch.device(\"cuda:0\")\n",
    "%matplotlib inline\n",
    "warnings.filterwarnings(\"ignore\")"
   ]
  },
  {
   "cell_type": "markdown",
   "id": "51bbe21f",
   "metadata": {},
   "source": [
    "## Cityscapes API dataloader"
   ]
  },
  {
   "cell_type": "code",
   "execution_count": 14,
   "id": "c6230305",
   "metadata": {},
   "outputs": [
    {
     "data": {
      "text/plain": [
       "2975"
      ]
     },
     "execution_count": 14,
     "metadata": {},
     "output_type": "execute_result"
    }
   ],
   "source": [
    "dataset = Cityscapes('../datasets/Cityscapes/', split='train', mode='fine', target_type='semantic')\n",
    "len(dataset)"
   ]
  },
  {
   "cell_type": "code",
   "execution_count": 2,
   "id": "c282d4e2",
   "metadata": {},
   "outputs": [],
   "source": [
    "preprocess_in = transforms.Compose([\n",
    "    transforms.ToTensor(),\n",
    "    transforms.Normalize(mean=[0.485, 0.456, 0.406], std=[0.229, 0.224, 0.225]),\n",
    "    transforms.Resize((256, 256))\n",
    "])\n",
    "\n",
    "preprocess_ou = transforms.Compose([\n",
    "    transforms.ToTensor(),\n",
    "    transforms.Resize((256, 256))\n",
    "])"
   ]
  },
  {
   "cell_type": "code",
   "execution_count": 3,
   "id": "c393a148",
   "metadata": {},
   "outputs": [],
   "source": [
    "dataloader = CityscapesLoader('../datasets/Cityscapes/', transform_in = preprocess_in, transform_ou = preprocess_ou)"
   ]
  },
  {
   "cell_type": "code",
   "execution_count": 16,
   "id": "e8134346",
   "metadata": {},
   "outputs": [
    {
     "name": "stdout",
     "output_type": "stream",
     "text": [
      "(35, 256, 256)\n"
     ]
    }
   ],
   "source": [
    "for i in dataloader:\n",
    "    #f, axarr = plt.subplots(1,2)\n",
    "    #axarr[0].imshow(i['image'])\n",
    "    #axarr[1].imshow(i[\"label\"])\n",
    "    ll = i[\"image\"]\n",
    "    print(np.array(i[\"label\"]).shape)\n",
    "    #print(i[\"label\"])\n",
    "    break"
   ]
  },
  {
   "cell_type": "code",
   "execution_count": 15,
   "id": "0b43dbcd",
   "metadata": {},
   "outputs": [
    {
     "data": {
      "text/plain": [
       "torch.Size([3, 256, 256])"
      ]
     },
     "execution_count": 15,
     "metadata": {},
     "output_type": "execute_result"
    }
   ],
   "source": [
    "ll.shape"
   ]
  },
  {
   "cell_type": "markdown",
   "id": "d91a24ed",
   "metadata": {},
   "source": [
    "## Transformer model time measure"
   ]
  },
  {
   "cell_type": "code",
   "execution_count": null,
   "id": "8aa49a7a",
   "metadata": {},
   "outputs": [],
   "source": [
    "input_image = torch.randn(50, 3, 256, 256)\n",
    "input_seg = torch.randn(50, 3, 256, 256)\n",
    "input_posterior = torch.randn(50, 6, 256, 256)\n",
    "mask = torch.randn(50, 3, 256, 256)\n",
    "tmp = torch.randn(50, 10, 1000)"
   ]
  },
  {
   "cell_type": "code",
   "execution_count": null,
   "id": "c133c9f7",
   "metadata": {},
   "outputs": [],
   "source": [
    "VT = VariationalTransformer(**{\"input_img_dim\":[256,256], \"transformer_emb_dim\":256, \"transformer_num_heads\":2,\n",
    "                       \"transformer_num_encoder_layer\": 1, \"transformer_num_dec_layer\": 1, \n",
    "                       \"transformer_intermediate_layer_dim\": 512, \"transformer_dropout_per\":0,\n",
    "                       \"prior_input_channels\":3, \"prior_posterior_layers\":[64,128,256],\n",
    "                       \"posterior_input_channels\":6, \"prior_posterior_layers\":[64,128,256], \"batch_size\":50})"
   ]
  },
  {
   "cell_type": "code",
   "execution_count": null,
   "id": "6a1b29d6",
   "metadata": {},
   "outputs": [],
   "source": [
    "start = time.time()\n",
    "out = VT(input_image, input_seg)\n",
    "end = time.time()\n",
    "print(end - start)"
   ]
  },
  {
   "cell_type": "code",
   "execution_count": null,
   "id": "82d7e1ad",
   "metadata": {},
   "outputs": [],
   "source": [
    "start = time.time()\n",
    "for i in VT.inference(torch.randn(1, 3, 256, 256)):\n",
    "    print(i.shape)\n",
    "end = time.time()\n",
    "print(end - start)"
   ]
  },
  {
   "cell_type": "markdown",
   "id": "6299eb4e",
   "metadata": {},
   "source": [
    "## My own dataloader"
   ]
  },
  {
   "cell_type": "code",
   "execution_count": 17,
   "id": "46a47803",
   "metadata": {},
   "outputs": [],
   "source": [
    "def find_color(label):\n",
    "    for i in range(len(city_labels)):\n",
    "        if label == city_labels[i].name:\n",
    "            return list(city_labels[i].color)"
   ]
  },
  {
   "cell_type": "code",
   "execution_count": 18,
   "id": "536479a7",
   "metadata": {},
   "outputs": [],
   "source": [
    "def generate_prob_mask(img, seg_mask, json_obj, label_to_id, num_classes = 35):\n",
    "    \n",
    "    segments = []\n",
    "    prob_mask = np.zeros((img.shape[0], img.shape[1], num_classes))\n",
    "    \n",
    "    for label in json_obj['objects']:\n",
    "        label = label['label']\n",
    "        if \"group\" in label:\n",
    "            label = re.sub(\"group\", \"\", label)\n",
    "        color = find_color(label)\n",
    "        color.append(255)\n",
    "        mask = (seg_mask == color).all(-1)\n",
    "        tmp = np.zeros((num_classes))\n",
    "        tmp[label_to_id[label]] = 1\n",
    "        prob_mask[mask] = tmp\n",
    "        \n",
    "    return prob_mask"
   ]
  },
  {
   "cell_type": "code",
   "execution_count": 19,
   "id": "d6e70f49",
   "metadata": {},
   "outputs": [
    {
     "name": "stdout",
     "output_type": "stream",
     "text": [
      "../datasets/Cityscapes/leftImg8bit/train/weimar/weimar_000083_000019_leftImg8bit.png\n",
      "../datasets/Cityscapes/gtFine/train/weimar/weimar_000083_000019_gtFine_color.png\n",
      "../datasets/Cityscapes/gtFine/train/weimar/weimar_000083_000019_gtFine_polygons.json\n",
      "../datasets/Cityscapes/gtFine/train/weimar/weimar_000083_000019_gtFine_prob_mask.\n",
      "1.6741809844970703\n"
     ]
    },
    {
     "data": {
      "image/png": "[encoded data removed]",
      "text/plain": [
       "<Figure size 432x288 with 2 Axes>"
      ]
     },
     "metadata": {
      "needs_background": "light"
     },
     "output_type": "display_data"
    }
   ],
   "source": [
    "start = time.time()\n",
    "\n",
    "mode = 'train'\n",
    "add = \"../datasets/Cityscapes/leftImg8bit/{}/*\".format(mode)\n",
    "label_to_id = {label.name:i for i,label in enumerate(city_labels)}\n",
    "for folder in glob.iglob(add):\n",
    "    for file in glob.iglob(os.path.join(folder,\"*\")):\n",
    "        \n",
    "        img_add = file\n",
    "        gtFine = img_add.replace(\"leftImg8bit\", \"gtFine_color\")\n",
    "        gtFine = gtFine.replace(\"gtFine_color\", \"gtFine\", 1)\n",
    "        json_add = gtFine.replace(\"color\", \"polygons\")\n",
    "        json_add = json_add.replace(\"png\", \"json\")\n",
    "        \n",
    "        img = np.array(Image.open(img_add))\n",
    "        seg_mask = np.array(Image.open(gtFine))\n",
    "        json_obj = json.load(open(json_add))\n",
    "        \n",
    "        label = generate_prob_mask(img, seg_mask, json_obj, label_to_id)\n",
    "        label_add = gtFine.replace(\"gtFine_color\", \"gtFine_prob_mask\")\n",
    "        label_add = label_add.replace(\"png\", \"\")\n",
    "        np.save(label_add, label)\n",
    "        \n",
    "        f, axarr = plt.subplots(1,2)\n",
    "        axarr[0].imshow(img)\n",
    "        axarr[1].imshow(seg_mask)\n",
    "        print(img_add)\n",
    "        print(gtFine)\n",
    "        print(json_add)\n",
    "        print(label_add)\n",
    "        \n",
    "        \n",
    "        \n",
    "        break\n",
    "    break\n",
    "    \n",
    "end = time.time()\n",
    "print(end - start)"
   ]
  },
  {
   "cell_type": "code",
   "execution_count": 12,
   "id": "c7bc8e6e",
   "metadata": {},
   "outputs": [
    {
     "data": {
      "text/plain": [
       "[Label(name='unlabeled', id=0, trainId=255, category='void', categoryId=0, hasInstances=False, ignoreInEval=True, color=(0, 0, 0)),\n",
       " Label(name='ego vehicle', id=1, trainId=255, category='void', categoryId=0, hasInstances=False, ignoreInEval=True, color=(0, 0, 0)),\n",
       " Label(name='rectification border', id=2, trainId=255, category='void', categoryId=0, hasInstances=False, ignoreInEval=True, color=(0, 0, 0)),\n",
       " Label(name='out of roi', id=3, trainId=255, category='void', categoryId=0, hasInstances=False, ignoreInEval=True, color=(0, 0, 0)),\n",
       " Label(name='static', id=4, trainId=255, category='void', categoryId=0, hasInstances=False, ignoreInEval=True, color=(0, 0, 0)),\n",
       " Label(name='dynamic', id=5, trainId=255, category='void', categoryId=0, hasInstances=False, ignoreInEval=True, color=(111, 74, 0)),\n",
       " Label(name='ground', id=6, trainId=255, category='void', categoryId=0, hasInstances=False, ignoreInEval=True, color=(81, 0, 81)),\n",
       " Label(name='road', id=7, trainId=0, category='flat', categoryId=1, hasInstances=False, ignoreInEval=False, color=(128, 64, 128)),\n",
       " Label(name='sidewalk', id=8, trainId=1, category='flat', categoryId=1, hasInstances=False, ignoreInEval=False, color=(244, 35, 232)),\n",
       " Label(name='parking', id=9, trainId=255, category='flat', categoryId=1, hasInstances=False, ignoreInEval=True, color=(250, 170, 160)),\n",
       " Label(name='rail track', id=10, trainId=255, category='flat', categoryId=1, hasInstances=False, ignoreInEval=True, color=(230, 150, 140)),\n",
       " Label(name='building', id=11, trainId=2, category='construction', categoryId=2, hasInstances=False, ignoreInEval=False, color=(70, 70, 70)),\n",
       " Label(name='wall', id=12, trainId=3, category='construction', categoryId=2, hasInstances=False, ignoreInEval=False, color=(102, 102, 156)),\n",
       " Label(name='fence', id=13, trainId=4, category='construction', categoryId=2, hasInstances=False, ignoreInEval=False, color=(190, 153, 153)),\n",
       " Label(name='guard rail', id=14, trainId=255, category='construction', categoryId=2, hasInstances=False, ignoreInEval=True, color=(180, 165, 180)),\n",
       " Label(name='bridge', id=15, trainId=255, category='construction', categoryId=2, hasInstances=False, ignoreInEval=True, color=(150, 100, 100)),\n",
       " Label(name='tunnel', id=16, trainId=255, category='construction', categoryId=2, hasInstances=False, ignoreInEval=True, color=(150, 120, 90)),\n",
       " Label(name='pole', id=17, trainId=5, category='object', categoryId=3, hasInstances=False, ignoreInEval=False, color=(153, 153, 153)),\n",
       " Label(name='polegroup', id=18, trainId=255, category='object', categoryId=3, hasInstances=False, ignoreInEval=True, color=(153, 153, 153)),\n",
       " Label(name='traffic light', id=19, trainId=6, category='object', categoryId=3, hasInstances=False, ignoreInEval=False, color=(250, 170, 30)),\n",
       " Label(name='traffic sign', id=20, trainId=7, category='object', categoryId=3, hasInstances=False, ignoreInEval=False, color=(220, 220, 0)),\n",
       " Label(name='vegetation', id=21, trainId=8, category='nature', categoryId=4, hasInstances=False, ignoreInEval=False, color=(107, 142, 35)),\n",
       " Label(name='terrain', id=22, trainId=9, category='nature', categoryId=4, hasInstances=False, ignoreInEval=False, color=(152, 251, 152)),\n",
       " Label(name='sky', id=23, trainId=10, category='sky', categoryId=5, hasInstances=False, ignoreInEval=False, color=(70, 130, 180)),\n",
       " Label(name='person', id=24, trainId=11, category='human', categoryId=6, hasInstances=True, ignoreInEval=False, color=(220, 20, 60)),\n",
       " Label(name='rider', id=25, trainId=12, category='human', categoryId=6, hasInstances=True, ignoreInEval=False, color=(255, 0, 0)),\n",
       " Label(name='car', id=26, trainId=13, category='vehicle', categoryId=7, hasInstances=True, ignoreInEval=False, color=(0, 0, 142)),\n",
       " Label(name='truck', id=27, trainId=14, category='vehicle', categoryId=7, hasInstances=True, ignoreInEval=False, color=(0, 0, 70)),\n",
       " Label(name='bus', id=28, trainId=15, category='vehicle', categoryId=7, hasInstances=True, ignoreInEval=False, color=(0, 60, 100)),\n",
       " Label(name='caravan', id=29, trainId=255, category='vehicle', categoryId=7, hasInstances=True, ignoreInEval=True, color=(0, 0, 90)),\n",
       " Label(name='trailer', id=30, trainId=255, category='vehicle', categoryId=7, hasInstances=True, ignoreInEval=True, color=(0, 0, 110)),\n",
       " Label(name='train', id=31, trainId=16, category='vehicle', categoryId=7, hasInstances=True, ignoreInEval=False, color=(0, 80, 100)),\n",
       " Label(name='motorcycle', id=32, trainId=17, category='vehicle', categoryId=7, hasInstances=True, ignoreInEval=False, color=(0, 0, 230)),\n",
       " Label(name='bicycle', id=33, trainId=18, category='vehicle', categoryId=7, hasInstances=True, ignoreInEval=False, color=(119, 11, 32)),\n",
       " Label(name='license plate', id=-1, trainId=-1, category='vehicle', categoryId=7, hasInstances=False, ignoreInEval=True, color=(0, 0, 142))]"
      ]
     },
     "execution_count": 12,
     "metadata": {},
     "output_type": "execute_result"
    }
   ],
   "source": [
    "city_labels"
   ]
  },
  {
   "cell_type": "code",
   "execution_count": null,
   "id": "586d2f42",
   "metadata": {},
   "outputs": [],
   "source": []
  },
  {
   "cell_type": "code",
   "execution_count": null,
   "id": "773c114b",
   "metadata": {},
   "outputs": [],
   "source": []
  }
 ],
 "metadata": {
  "kernelspec": {
   "display_name": "Python 3 (ipykernel)",
   "language": "python",
   "name": "python3"
  },
  "language_info": {
   "codemirror_mode": {
    "name": "ipython",
    "version": 3
   },
   "file_extension": ".py",
   "mimetype": "text/x-python",
   "name": "python",
   "nbconvert_exporter": "python",
   "pygments_lexer": "ipython3",
   "version": "3.6.10"
  }
 },
 "nbformat": 4,
 "nbformat_minor": 5
}
